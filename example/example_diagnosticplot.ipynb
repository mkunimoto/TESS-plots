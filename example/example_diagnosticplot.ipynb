{
 "cells": [
  {
   "cell_type": "markdown",
   "metadata": {},
   "source": [
    "This tutorial will demonstrate how to make a diagnostic plot for a planet candidate in TESS data."
   ]
  },
  {
   "cell_type": "code",
   "execution_count": null,
   "metadata": {},
   "outputs": [],
   "source": [
    "import matplotlib.pyplot as plt\n",
    "import sys\n",
    "sys.path.append('../code')"
   ]
  },
  {
   "cell_type": "markdown",
   "metadata": {},
   "source": [
    "Provide some basic information on the star and its planet. In this example, we'll look at TIC-25375553, the host star of confirmed planet TOI-143.01 (WASP-111b)."
   ]
  },
  {
   "cell_type": "code",
   "execution_count": null,
   "metadata": {},
   "outputs": [],
   "source": [
    "star = {}\n",
    "star['id'] = 25375553\n",
    "\n",
    "planet = {}\n",
    "planet['TOI'] = 143.01\n",
    "planet['period'] = 2.31097\n",
    "planet['epoch'] = 1325.58249\n",
    "planet['durationHours'] = 3.129\n",
    "planet['radius'] = 17.54"
   ]
  },
  {
   "cell_type": "markdown",
   "metadata": {},
   "source": [
    "We need the lightcurve (time, raw flux, detrended flux) of TIC-25375553 to plot it out. You can get this from your favourite source. In this example let's get the SPOC 2 minute cadence data from Sectors 1 and 28 for this target via lightkurve. "
   ]
  },
  {
   "cell_type": "code",
   "execution_count": null,
   "metadata": {},
   "outputs": [],
   "source": [
    "import lightkurve as lk\n",
    "import numpy as np\n",
    "\n",
    "lcfs = lk.search_lightcurvefile('TIC %i' % star['id'], mission='TESS').download_all()\n",
    "lc_raw = lcfs.PDCSAP_FLUX.stitch()\n",
    "lc_clean = lc_raw.remove_outliers(sigma=20, sigma_upper=4)\n",
    "# Mask out transit from detrending (optional)\n",
    "temp_fold = lc_clean.fold(planet['period'], t0=planet['epoch'])\n",
    "fractional_duration = (planet['durationHours'] / 24.0) / planet['period']\n",
    "phase_mask = np.abs(temp_fold.phase) < (fractional_duration * 1.5)\n",
    "transit_mask = np.in1d(lc_clean.time, temp_fold.time_original[phase_mask])\n",
    "lc_flat = lc_clean.flatten(mask=transit_mask)\n",
    "\n",
    "star['time'] = lc_clean.time\n",
    "star['raw'] = lc_clean.flux\n",
    "star['flux'] = lc_flat.flux"
   ]
  },
  {
   "cell_type": "markdown",
   "metadata": {},
   "source": [
    "We also need the difference image data for signal. We already have that from running the first tutorial (example_diffimages.ipynb), so let's just load that back in:"
   ]
  },
  {
   "cell_type": "code",
   "execution_count": null,
   "metadata": {},
   "outputs": [],
   "source": [
    "import pickle\n",
    "\n",
    "fname = 'tic25375553/imageData_TOI_143.01_sector28.pickle'\n",
    "with open(fname, 'rb') as f:\n",
    "    imageData = pickle.load(f)"
   ]
  },
  {
   "cell_type": "markdown",
   "metadata": {},
   "source": [
    "Now we have all we need to make a basic report for the planet signal."
   ]
  },
  {
   "cell_type": "code",
   "execution_count": null,
   "metadata": {
    "scrolled": false
   },
   "outputs": [],
   "source": [
    "from plots import plot_report\n",
    "\n",
    "plot_report(star, planet, imageData)"
   ]
  },
  {
   "cell_type": "markdown",
   "metadata": {},
   "source": [
    "Description of plots:\n",
    "\n",
    "First column, first row: raw lightcurve, with odd and even transits marked with blue and orange ticks, respectively. Large gaps in the data are skipped over for plotting to ease visibility of data.\n",
    "\n",
    "First column, second row: detrended lightcurve\n",
    "\n",
    "First column, third row: phase diagram showing all data\n",
    "\n",
    "First column, fourth row: close-up of phase diagram centred on transit\n",
    "\n",
    "Second column, second row: close-up of phase diagram centred on only odd and even transits for comparison\n",
    "\n",
    "Second column, third row: close-up of phase diagram centred on most significant secondary in lightcurve (default at phase = 0.5; set `planet['phs_sec'] = X` to centre the plot elsewhere)\n",
    "\n",
    "Second column, fourth row: phase diagram centred on phase = 0.5\n",
    "\n",
    "Third column, first row: full difference image SNR\n",
    "\n",
    "Third column, second row: full direct image\n",
    "\n",
    "Third column, third row: close-up of difference image SNR\n",
    "\n",
    "Third column, fourth row: close-up of direct image\n",
    "\n",
    "Fourth column: summary of information about planet and star. Stellar properties are queryied from the TIC catalogue automatically."
   ]
  },
  {
   "cell_type": "code",
   "execution_count": null,
   "metadata": {},
   "outputs": [],
   "source": []
  }
 ],
 "metadata": {
  "kernelspec": {
   "display_name": "Python 3 (ipykernel)",
   "language": "python",
   "name": "python3"
  },
  "language_info": {
   "codemirror_mode": {
    "name": "ipython",
    "version": 3
   },
   "file_extension": ".py",
   "mimetype": "text/x-python",
   "name": "python",
   "nbconvert_exporter": "python",
   "pygments_lexer": "ipython3",
   "version": "3.9.13"
  }
 },
 "nbformat": 4,
 "nbformat_minor": 4
}
